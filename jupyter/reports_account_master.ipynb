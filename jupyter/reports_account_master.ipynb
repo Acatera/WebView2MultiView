{
 "cells": [
  {
   "cell_type": "code",
   "execution_count": null,
   "id": "c21ed31d",
   "metadata": {},
   "outputs": [],
   "source": [
    "import pandas as pd\n",
    "import matplotlib.pyplot as plt\n",
    "import seaborn as sns\n",
    "import json\n",
    "import os\n",
    "\n",
    "# Load JSON data\n",
    "with open(\"../output/accounts_master.json\", \"r\", encoding=\"utf-8\") as f:\n",
    "    data = json.load(f)\n",
    "\n",
    "accounts = data[\"accounts\"]\n",
    "df = pd.json_normalize(accounts)\n",
    "\n",
    "# Calculate manager counts\n",
    "df[\"manager_count\"] = df[\"page_managers\"].apply(lambda x: sum(m['count'] for m in x) if isinstance(x, list) else 0)\n",
    "df[\"unique_manager_countries\"] = df[\"page_managers\"].apply(lambda x: len(x) if isinstance(x, list) else 0)\n",
    "\n",
    "# Prepare data with clickable links\n",
    "highly_managed = df[df[\"manager_count\"] > 15][[\"name\", \"profile_url\", \"manager_count\", \"unique_manager_countries\"]]\n",
    "highly_managed[\"name\"] = highly_managed.apply(\n",
    "    lambda row: f\"[{row['name']}]({row['profile_url']})\", axis=1\n",
    ")\n",
    "highly_managed = highly_managed.drop(columns=[\"profile_url\"])\n",
    "\n",
    "# Summarize total by country\n",
    "country_counts = {}\n",
    "for managers in df[\"page_managers\"].dropna():\n",
    "    for manager in managers:\n",
    "        country_counts[manager[\"country\"]] = country_counts.get(manager[\"country\"], 0) + manager[\"count\"]\n",
    "\n",
    "# Convert to DataFrame\n",
    "country_df = pd.DataFrame(list(country_counts.items()), columns=[\"Country\", \"Manager Count\"]).sort_values(by=\"Manager Count\", ascending=False)\n",
    "\n",
    "# Save chart\n",
    "os.makedirs(\"report_images\", exist_ok=True)\n",
    "plt.figure(figsize=(10, 6))\n",
    "sns.barplot(data=country_df.head(10), x=\"Manager Count\", y=\"Country\")\n",
    "plt.title(\"Top 10 Countries by Total Manager Count\")\n",
    "plt.tight_layout()\n",
    "chart_path = \"report_images/high_manager_counts.png\"\n",
    "plt.savefig(chart_path)\n",
    "plt.close()\n",
    "\n",
    "# Save Markdown report\n",
    "with open(\"../reports/high_manager_report.md\", \"w\", encoding=\"utf-8\") as report:\n",
    "    report.write(\"# High Manager Count Analysis\\n\\n\")\n",
    "    report.write(\"## Pages with >15 Managers\\n\\n\")\n",
    "    report.write(highly_managed.to_markdown(index=False))\n",
    "    report.write(\"\\n\\n## Top Countries by Manager Count\\n\\n\")\n",
    "    report.write(f\"![high_manager_counts]({chart_path})\\n\")\n"
   ]
  }
 ],
 "metadata": {
  "kernelspec": {
   "display_name": "Python 3",
   "language": "python",
   "name": "python3"
  },
  "language_info": {
   "codemirror_mode": {
    "name": "ipython",
    "version": 3
   },
   "file_extension": ".py",
   "mimetype": "text/x-python",
   "name": "python",
   "nbconvert_exporter": "python",
   "pygments_lexer": "ipython3",
   "version": "3.12.10"
  }
 },
 "nbformat": 4,
 "nbformat_minor": 5
}

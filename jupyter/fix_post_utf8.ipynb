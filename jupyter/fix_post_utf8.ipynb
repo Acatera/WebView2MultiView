{
 "cells": [
  {
   "cell_type": "code",
   "execution_count": null,
   "id": "a87263e3",
   "metadata": {},
   "outputs": [
    {
     "ename": "",
     "evalue": "",
     "output_type": "error",
     "traceback": [
      "\u001b[1;31mThe Kernel crashed while executing code in the current cell or a previous cell. \n",
      "\u001b[1;31mPlease review the code in the cell(s) to identify a possible cause of the failure. \n",
      "\u001b[1;31mClick <a href='https://aka.ms/vscodeJupyterKernelCrash'>here</a> for more info. \n",
      "\u001b[1;31mView Jupyter <a href='command:jupyter.viewOutput'>log</a> for further details."
     ]
    }
   ],
   "source": [
    "import glob\n",
    "import json\n",
    "\n",
    "# Iterate over files in ../comments/comments*.json\n",
    "for file_path in glob.glob('../comments/comments*.json'):\n",
    "    with open(file_path, 'r', encoding='utf-8') as file:\n",
    "        data = json.load(file)  # Parse JSON\n",
    "\n",
    "    # Dump JSON with readable Romanian characters\n",
    "    decoded_data = json.dumps(data, ensure_ascii=False, indent=2)\n",
    "\n",
    "    # Create new file path with _utf8\n",
    "\n",
    "    with open(file_path, 'w', encoding='utf-8') as new_file:\n",
    "        new_file.write(decoded_data)\n",
    "\n"
   ]
  }
 ],
 "metadata": {
  "kernelspec": {
   "display_name": "Python 3",
   "language": "python",
   "name": "python3"
  },
  "language_info": {
   "codemirror_mode": {
    "name": "ipython",
    "version": 3
   },
   "file_extension": ".py",
   "mimetype": "text/x-python",
   "name": "python",
   "nbconvert_exporter": "python",
   "pygments_lexer": "ipython3",
   "version": "3.12.2"
  }
 },
 "nbformat": 4,
 "nbformat_minor": 5
}

{
 "cells": [
  {
   "cell_type": "code",
   "execution_count": 2,
   "id": "dbc6ab36",
   "metadata": {},
   "outputs": [
    {
     "name": "stdout",
     "output_type": "stream",
     "text": [
      "4\n"
     ]
    }
   ],
   "source": [
    "import json\n",
    "import os\n",
    "\n",
    "# Ensure the file is read with the correct encoding\n",
    "encoding = 'utf-8'\n",
    "\n",
    "# Load data from data/raw.json\n",
    "file_path = '../data/raw.json'\n",
    "if os.path.exists(file_path):\n",
    "    try:\n",
    "        with open(file_path, 'r', encoding=encoding) as file:\n",
    "            data = json.load(file)\n",
    "    except UnicodeDecodeError as e:\n",
    "        print(f\"Encoding error: {e}\")\n",
    "        data = None\n",
    "else:\n",
    "    print(f\"File not found: {file_path}\")\n",
    "    data = None\n",
    "\n",
    "# Display the loaded data\n",
    "print(len(data))"
   ]
  },
  {
   "cell_type": "code",
   "execution_count": 6,
   "id": "a15802a2",
   "metadata": {},
   "outputs": [],
   "source": [
    "# Extract the required fields from data['accounts']\n",
    "accounts_list = []\n",
    "for account_id, account_data in data['accounts'].items():\n",
    "    account_info = {\n",
    "        \"name\": account_data.get(\"name\"),\n",
    "        \"profile_url\": account_data.get(\"profile_url\"),\n",
    "        \"stats\": {\n",
    "            \"likes\": account_data.get(\"stats\", {}).get(\"likes\"),\n",
    "            \"followers\": account_data.get(\"stats\", {}).get(\"followers\"),\n",
    "        },\n",
    "        \"post_count\": len(account_data.get(\"posts\", []))\n",
    "    }\n",
    "    accounts_list.append(account_info)\n",
    "\n",
    "# Resulting data structure\n",
    "# \"date\": \"27 aprilie 2025\", this is how date looks like in data.date\n",
    "# format date as \"YYYY-MM-DD\"\n",
    "# Extract the date from the data\n",
    "extracted_date = data.get('date', None)\n",
    "\n",
    "if extracted_date != None:\n",
    "    # Assuming the date is in the format \"27 aprilie 2025\"\n",
    "    month_mapping = {\n",
    "        \"ianuarie\": \"01\",\n",
    "        \"februarie\": \"02\",\n",
    "        \"martie\": \"03\",\n",
    "        \"aprilie\": \"04\",\n",
    "        \"mai\": \"05\",\n",
    "        \"iunie\": \"06\",\n",
    "        \"iulie\": \"07\",\n",
    "        \"august\": \"08\",\n",
    "        \"septembrie\": \"09\",\n",
    "        \"octombrie\": \"10\",\n",
    "        \"noiembrie\": \"11\",\n",
    "        \"decembrie\": \"12\"\n",
    "    }\n",
    "    day, month_str, year = extracted_date.split()\n",
    "    month = month_mapping.get(month_str.lower(), '00')\n",
    "    extracted_date = f\"{year}-{month}-{day.zfill(2)}\"\n",
    "else:\n",
    "    extracted_date = None\n",
    "\n",
    "result = {\n",
    "    \"date\": extracted_date,\n",
    "    \"accounts\": accounts_list\n",
    "}\n",
    "\n",
    "# save the extracted data to a new JSON file\n",
    "output_file_path = '../output/accounts.json'\n",
    "with open(output_file_path, 'w', encoding=encoding) as output_file:\n",
    "    json.dump(result, output_file, indent=4, ensure_ascii=False)"
   ]
  }
 ],
 "metadata": {
  "kernelspec": {
   "display_name": "Python 3",
   "language": "python",
   "name": "python3"
  },
  "language_info": {
   "codemirror_mode": {
    "name": "ipython",
    "version": 3
   },
   "file_extension": ".py",
   "mimetype": "text/x-python",
   "name": "python",
   "nbconvert_exporter": "python",
   "pygments_lexer": "ipython3",
   "version": "3.12.2"
  }
 },
 "nbformat": 4,
 "nbformat_minor": 5
}

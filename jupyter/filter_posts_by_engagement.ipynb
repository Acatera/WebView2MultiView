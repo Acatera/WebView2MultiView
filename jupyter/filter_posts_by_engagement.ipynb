{
 "cells": [
  {
   "cell_type": "code",
   "execution_count": 6,
   "id": "12315fb1",
   "metadata": {},
   "outputs": [],
   "source": [
    "import glob\n",
    "import json\n",
    "\n",
    "threshold_comments = 100\n",
    "\n",
    "# Scan data folder for raw*.json files\n",
    "\n",
    "posts = []\n",
    "for file_path in glob.glob(\"../data/raw*.json\"):\n",
    "    with open(file_path, encoding=\"utf-8\") as f:\n",
    "        json_data = json.load(f)\n",
    "        accounts = json_data[\"accounts\"]\n",
    "        for account_id, account_data in accounts.items():\n",
    "            if \"posts\" in account_data:\n",
    "                for post in account_data[\"posts\"]:\n",
    "                    # Check if the post has a \"stats\" object\n",
    "                    if \"stats\" in post:\n",
    "                        # Check if the post has a \"comments\" field in the \"stats\" object\n",
    "                        if \"comments\" in post[\"stats\"]:\n",
    "                            # Check if the number of comments is greater than or equal to the threshold\n",
    "                            if post[\"stats\"][\"comments\"] >= threshold_comments:\n",
    "                                # Add the post to the list\n",
    "                                posts.append({\n",
    "                                    \"url\": post[\"url\"],\n",
    "                                    \"comments\": post[\"stats\"][\"comments\"],\n",
    "                                })\n",
    "                    \n",
    "# Filter out video posts\n",
    "posts = [post for post in posts if \"videos\" not in post[\"url\"] or \"reel\" in post[\"url\"]]\n",
    "\n",
    "# Save the filtered posts to a new JSON file\n",
    "with open(\"../output/engaging_posts.json\", \"w\", encoding=\"utf-8\") as f:\n",
    "    json.dump({\n",
    "        \"threshold_comments\": threshold_comments,\n",
    "        \"posts\": posts,\n",
    "    }, f, ensure_ascii=False, indent=4)\n"
   ]
  }
 ],
 "metadata": {
  "kernelspec": {
   "display_name": "Python 3",
   "language": "python",
   "name": "python3"
  },
  "language_info": {
   "codemirror_mode": {
    "name": "ipython",
    "version": 3
   },
   "file_extension": ".py",
   "mimetype": "text/x-python",
   "name": "python",
   "nbconvert_exporter": "python",
   "pygments_lexer": "ipython3",
   "version": "3.12.2"
  }
 },
 "nbformat": 4,
 "nbformat_minor": 5
}

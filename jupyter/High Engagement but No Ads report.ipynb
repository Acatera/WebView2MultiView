{
 "cells": [
  {
   "cell_type": "code",
   "execution_count": null,
   "id": "dbfd5d98",
   "metadata": {},
   "outputs": [
    {
     "name": "stderr",
     "output_type": "stream",
     "text": [
      "C:\\Users\\alexandru.danciu.RBC\\AppData\\Local\\Temp\\ipykernel_23332\\1650585932.py:15: FutureWarning: Downcasting object dtype arrays on .fillna, .ffill, .bfill is deprecated and will change in a future version. Call result.infer_objects(copy=False) instead. To opt-in to the future behavior, set `pd.set_option('future.no_silent_downcasting', True)`\n",
      "  df[\"ad_status.has_run\"] = df[\"ad_status.has_run\"].fillna(False)\n"
     ]
    }
   ],
   "source": [
    "import pandas as pd\n",
    "import json\n",
    "import os\n",
    "\n",
    "# Load JSON data\n",
    "with open(\"../output/accounts_master.json\", \"r\", encoding=\"utf-8\") as f:\n",
    "    data = json.load(f)\n",
    "\n",
    "accounts = data[\"accounts\"]\n",
    "df = pd.json_normalize(accounts)\n",
    "\n",
    "# Prepare fields\n",
    "df[\"followers\"] = pd.to_numeric(df[\"stats.followers\"], errors=\"coerce\")\n",
    "df[\"follower_growth_rate\"] = pd.to_numeric(df[\"stats.follower_growth_rate\"], errors=\"coerce\")\n",
    "df[\"ad_status.has_run\"] = df[\"ad_status.has_run\"].fillna(False)\n",
    "df[\"days_since_creation\"] = pd.to_numeric(df[\"days_since_creation\"], errors=\"coerce\")\n",
    "\n",
    "# Define suspicion score\n",
    "def compute_suspicion_score(row):\n",
    "    score = 0\n",
    "    if row[\"followers\"] >= 100_000:\n",
    "        score += 1\n",
    "    if row[\"days_since_creation\"] <= 180:\n",
    "        score += 1\n",
    "    if not row[\"ad_status.has_run\"]:\n",
    "        score += 1\n",
    "    return score\n",
    "\n",
    "# Filter for high engagement\n",
    "high_engagement = df[df[\"followers\"] > 50000].copy()\n",
    "high_engagement[\"suspicion_score\"] = high_engagement.apply(compute_suspicion_score, axis=1)\n",
    "\n",
    "# Build clickable name column\n",
    "high_engagement[\"name\"] = high_engagement.apply(\n",
    "    lambda row: f\"[{row['name']}]({row['profile_url']})\", axis=1\n",
    ")\n",
    "\n",
    "# Select fields for the report\n",
    "output_df = high_engagement[[\n",
    "    \"name\", \"followers\", \"days_since_creation\", \"follower_growth_rate\", \"ad_status.has_run\", \"suspicion_score\"\n",
    "]]\n",
    "\n",
    "# Sort by suspicion score, then by recency and followers\n",
    "output_df = output_df.sort_values(by=[\"suspicion_score\", \"days_since_creation\", \"followers\"], ascending=[False, True, False])\n",
    "\n",
    "# Output directory\n",
    "os.makedirs(\"../reports\", exist_ok=True)\n",
    "\n",
    "# Write markdown report\n",
    "with open(\"../reports/high_engagement_no_ads.md\", \"w\", encoding=\"utf-8\") as report:\n",
    "    report.write(\"# High Engagement Pages With Suspicion Score\\n\\n\")\n",
    "    report.write(\n",
    "        \"This report highlights high-follower pages (over 50,000) that may require further analysis.\\n\\n\"\n",
    "        \"**Suspicion Score Criteria:**\\n\"\n",
    "        \"\\n\"\n",
    "        \"- +1 if followers > 100,000\\n\"\n",
    "        \"- +1 if created within the last 180 days\\n\"\n",
    "        \"- +1 if they have never run ads\\n\\n\"\n",
    "    )\n",
    "    report.write(output_df.to_markdown(index=False))\n"
   ]
  }
 ],
 "metadata": {
  "kernelspec": {
   "display_name": "Python 3",
   "language": "python",
   "name": "python3"
  },
  "language_info": {
   "codemirror_mode": {
    "name": "ipython",
    "version": 3
   },
   "file_extension": ".py",
   "mimetype": "text/x-python",
   "name": "python",
   "nbconvert_exporter": "python",
   "pygments_lexer": "ipython3",
   "version": "3.12.10"
  }
 },
 "nbformat": 4,
 "nbformat_minor": 5
}
